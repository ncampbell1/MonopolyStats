{
  "nbformat": 4,
  "nbformat_minor": 0,
  "metadata": {
    "colab": {
      "name": "Copy of Monopoly.ipynb",
      "provenance": [],
      "collapsed_sections": [],
      "include_colab_link": true
    },
    "kernelspec": {
      "name": "python3",
      "display_name": "Python 3"
    },
    "language_info": {
      "name": "python"
    }
  },
  "cells": [
    {
      "cell_type": "markdown",
      "metadata": {
        "id": "view-in-github",
        "colab_type": "text"
      },
      "source": [
        "<a href=\"https://colab.research.google.com/github/ncampbell1/MonopolyStats/blob/main/Copy_of_Monopoly.ipynb\" target=\"_parent\"><img src=\"https://colab.research.google.com/assets/colab-badge.svg\" alt=\"Open In Colab\"/></a>"
      ]
    },
    {
      "cell_type": "markdown",
      "metadata": {
        "id": "PHh_wpV-VQus"
      },
      "source": [
        "Linked List Class potentially as just the board class\n"
      ]
    },
    {
      "cell_type": "markdown",
      "metadata": {
        "id": "7LbNueIDVZBJ"
      },
      "source": [
        "Nodes Class being the monopoly spaces (Property, Pay, Jail, etc.)\n"
      ]
    },
    {
      "cell_type": "code",
      "metadata": {
        "id": "eocR5Q4rAbuq"
      },
      "source": [
        "import random\n",
        "import matplotlib.pyplot as plt\n",
        "import numpy as np\n",
        "\n",
        "#rolls the 2 dice\n",
        "def rollDice ():\n",
        "  #Returns total from the 2 dice rolling\n",
        "  total = 0\n",
        "  for i in range ( 2 ):\n",
        "    total += random.randint (1 , 6)\n",
        "  return total"
      ],
      "execution_count": null,
      "outputs": []
    },
    {
      "cell_type": "code",
      "metadata": {
        "id": "NOwwnIOxSmYh"
      },
      "source": [
        "#class that holds the properties \n",
        "#if the space isn't a normal property, price and rent will be 0 (Jail, Go, Chance, etc.)\n",
        "#color variable groups the properties into \"monopolies\"\n",
        "class Properties(object):\n",
        "  def __init__(self, name, color, price, rent, monopoly = False):\n",
        "    self.name = name\n",
        "    self.color= color\n",
        "    self.price = price\n",
        "    self.rent = rent\n",
        "    self.owned = False\n",
        "    self.owner = \"None\"\n",
        "    self.monopoly = monopoly\n",
        "    self.revenue = 0\n",
        "    #To keep track of the stats on how many times properties are landed on, need variable\n",
        "    self.timesLanded = 0\n",
        "    #Make simulation values that does not reset between simulations to get averaged data\n",
        "    self.simLanded = 0\n",
        "    self.simRevenue = 0\n",
        "    \n",
        "\n",
        "  def landedOn(self):\n",
        "    \"\"\"Counts the number of times a property is landed on for statistical models\"\"\"\n",
        "    self.timesLanded += 1\n",
        "    self.simLanded += 1\n",
        "    #Every time this property is landed on, it will also calculate the total revenue the property has made\n",
        "    self.revenue += self.rent\n",
        "    self.simRevenue += self.rent\n",
        "  \n",
        "  def bought(self):\n",
        "    \"\"\"Sets property to be bought\"\"\"\n",
        "    self.owned = True\n",
        "  \n",
        "  def newOwner(self, Player):\n",
        "    \"\"\"Sets the owner of the property\"\"\"\n",
        "    self.owner = Player\n",
        "    #print(\"Im in the owner function!\")\n",
        "\n",
        "  def reset(self):\n",
        "    \"\"\"Resets initial game conditiions\"\"\"\n",
        "    self.owned = False\n",
        "    self.owner = \"None\"\n",
        "    self.timesLanded = 0\n",
        "    self.revenue = 0\n",
        "\n",
        "  def monopolize(self, mult):\n",
        "    \"\"\"This function determines if the player has a monopoly, multiply the rent\"\"\"\n",
        "    self.monopoly = true\n",
        "    self.rent *= mult\n",
        "\n",
        "\n",
        "\n",
        "\n",
        "\n"
      ],
      "execution_count": null,
      "outputs": []
    },
    {
      "cell_type": "code",
      "metadata": {
        "id": "Nrykdoxoax6y"
      },
      "source": [
        "Brown1= Properties(\"Mediterranean Ave\", \"Brown\", 60, 2)\n",
        "Brown2 = Properties(\"Baltic Ave\", \"Brown\", 60, 4)\n",
        "LBlue1= Properties (\"Oriental Ave\", \"Light Blue\", 100, 6)\n",
        "LBlue2= Properties(\"Vermont Ave\", \"Light Blue\", 100, 6)\n",
        "LBlue3= Properties (\"Connecticut Ave\", \"Light Blue\", 120, 8)\n",
        "Pink1= Properties (\"St. Charles Place\", \"Pink\", 140, 10)\n",
        "Pink2= Properties (\"States Ave\", \"Pink\", 140, 10)\n",
        "Pink3= Properties (\"Virginia Ave\", \"Pink\", 160, 12)\n",
        "Orange1= Properties (\"St. James Place\", \"Orange\", 180, 14)\n",
        "Orange2= Properties (\"Tennesse Ave\", \"Orange\", 180, 14)\n",
        "Orange3= Properties (\"New York Ave\", \"Orange\", 180, 16)\n",
        "Red1= Properties (\"Kentucky Ave\", \"Red\", 220, 18)\n",
        "Red2= Properties (\"Indiana Ave\", \"Red\", 220, 18)\n",
        "Red3= Properties (\"Illinois Ave\", \"Red\", 240, 20)\n",
        "Yellow1= Properties (\"Atlantic Ave\", \"Yellow\", 260, 22)\n",
        "Yellow2= Properties (\"Ventnor Ave\", \"Yellow\", 260, 22)\n",
        "Yellow3= Properties (\"Marvin Gardens\", \"Yellow\", 280, 24)\n",
        "Green1= Properties (\"Pacific Ave\", \"Green\", 300, 26)\n",
        "Green2= Properties (\"North Carolina Ave\", \"Green\", 300, 26)\n",
        "Green3= Properties (\"Pennsylvania Ave\", \"Green\", 320, 28)\n",
        "DBlue1= Properties (\"Park Place\", \"Dark Blue\", 350, 35)\n",
        "DBlue2= Properties (\"Boardwalk\", \"Dark Blue\", 400, 50)\n",
        "\n",
        "#Some of the propertiy \"rules\" are changed for similification\n",
        "#For instance, the electric company and water works are supposed to be x4 the dice, but it might be easier to just make it a rent of 35 (7x5)\n",
        "\n",
        "\n",
        "Special1= Properties(\"Reading Railroad\", \"Railroad\", 200, 25)\n",
        "#change in rules= 4x die=== 35$\n",
        "Special2= Properties(\"Electric Company\", \"Railroad\", 150, 35)\n",
        "Special3= Properties(\"Pennsylvania Railroad\", \"Railroad\", 200, 25)\n",
        "Special4= Properties(\"B. & O. Railroad\", \"Railroad\", 200, 25)\n",
        "Special5= Properties(\"Water Works\", \"Utility\", 150, 35)\n",
        "Special6= Properties(\"Short Line\", \"Utility\", 200, 25)\n",
        "\n",
        "#Another example I thought of maybe \"simplifying\" the game could be change Chance/Community Chest to be a random selection of either -$50 or +$50??\n",
        "\n",
        "monopolies = [[Brown1, Brown2],[LBlue1, LBlue2, LBlue3],[Pink1, Pink2, Pink3],[Orange1, Orange2, Orange3], [Red1, Red2, Red3], [Yellow1, Yellow2, Yellow3], [Green1, Green2, Green3], [DBlue1, DBlue2], [Special5, Special6], [Special1, Special2, Special3, Special4]]\n",
        "colorsIndicis = {\"Brown\" : 0, \"Light Blue\" : 1, \"Pink\" : 2, \"Orange\" : 3, \"Red\" : 4, \"Yellow\" : 5, \"Green\" : 6, \"Dark Blue\" : 7, \"Utility\" : 8, \"Railroad\" : 9 }\n",
        "\n",
        "Go= Properties(\"Go\", \"Go,\", 0, 0)\n",
        "CommunityChest= Properties(\"Community Chest\", \"Chance\", 0, 0)\n",
        "IncomeTax= Properties(\"Income Tax\", \"Tax\", 0, 0)\n",
        "Chance= Properties(\"Chance\", \"Chance\", 0, 0)\n",
        "Jail= Properties(\"Jail\", \"None\", 0, 0)\n",
        "FreeParking= Properties(\"Free Parking\", \"None\", 0, 0)\n",
        "GoToJail= Properties(\"Go to Jail\", \"Jail\", 0, 0)\n",
        "LuxeryTax= Properties(\"Luxery Tax\", \"Tax\", 0, 0)\n",
        "\n",
        "\n"
      ],
      "execution_count": null,
      "outputs": []
    },
    {
      "cell_type": "code",
      "metadata": {
        "id": "b2oFq8PUf253"
      },
      "source": [
        "#Class that keeps track of the player and their game action\n",
        "class Player(object):\n",
        "  def __init__(self, name, style, number, money = 1500, properties = []):\n",
        "    self.name = name\n",
        "    self.style = style\n",
        "    self.number = number\n",
        "    self.money = money\n",
        "    self.properties= properties\n",
        "    self.position = space1\n",
        "    self.bankrupt= False\n",
        "\n",
        "  def __str__(self):\n",
        "    return \"Name: \" + self.name + \" Play Style: \" + str(self.style) + \" Amount of Money: $\" + str(self.money) + \" Properties Owned: \" + str(self.properties)\n",
        "\n",
        "  def movePosition(self):\n",
        "    \"\"\"This function moves the Player to the new space based on their dice roll\"\"\"\n",
        "    currentSpace = self.position\n",
        "    spacesToMove = rollDice()\n",
        "    #print(spacesToMove)\n",
        "    #moves them on the board\n",
        "    for moves in range(spacesToMove):\n",
        "       currentSpace = self.position.next\n",
        "       self.position = currentSpace\n",
        "       #if they pass go on this turn-- collect $200\n",
        "       if(self.position.data.name == \"Go\"):\n",
        "         self.money += 200\n",
        "         #print(\"Pass 'Go' collect $200\")\n",
        "    self.position.data.landedOn()\n",
        "    #If we land on Go to Jail, move player to jail (lose 50$, don't collect $200)\n",
        "    if(self.position.data.name == \"Go to Jail\"):\n",
        "      for k in range(20):\n",
        "        currentSpace = self.position.next\n",
        "        self.position = currentSpace\n",
        "      self.money = self.money - 50\n",
        "    #print(self.position.data.name)\n",
        "    return self.position.data.name\n",
        "      \n",
        "  def buy(self, Node):\n",
        "    \"\"\"This function is for if a player wants to buy a property and the potential things that can happen\"\"\"\n",
        "    #if (Node.data.price == 0):\n",
        "      #print(\"This isn't a property for sale\")\n",
        "    if (Node.data.price !=0):\n",
        "      if (Node.data.owned == True):\n",
        "        #print(\"This property is already owned\")\n",
        "        self.payRent(Node)\n",
        "      else:\n",
        "        #if (self.money < Node.data.price):\n",
        "          #print(\"You don't have enough money to buy \" + Node.data.name)\n",
        "        if (self.money>= Node.data.price):\n",
        "          if (self.style == \"slums\" and (colorsIndicis[self.position.data.color]== 0 or colorsIndicis[self.position.data.color]== 1 or colorsIndicis[self.position.data.color]== 2)):\n",
        "            #add this property to the player's list of their properties\n",
        "            self.properties.append(Node.data.name)\n",
        "            self.money = self.money - Node.data.price\n",
        "            Node.data.bought()\n",
        "            Node.data.newOwner(self)\n",
        "          #print(self.name + \" bought \" + Node.data.name) Used mostly for debugging purposes\n",
        "            self.checkMonopoly(Node.data)\n",
        "          elif (self.style == \"middle\" and (colorsIndicis[self.position.data.color]== 3 or colorsIndicis[self.position.data.color]== 4 or colorsIndicis[self.position.data.color]== 5)):\n",
        "            #add this property to the player's list of their properties\n",
        "            self.properties.append(Node.data.name)\n",
        "            self.money = self.money - Node.data.price\n",
        "            Node.data.bought()\n",
        "            Node.data.newOwner(self)\n",
        "            #print(self.name + \" bought \" + Node.data.name) Used mostly for debugging purposes\n",
        "            self.checkMonopoly(Node.data)\n",
        "          elif (self.style == \"riches\" and (colorsIndicis[self.position.data.color]== 6 or colorsIndicis[self.position.data.color]== 7)):\n",
        "            #add this property to the player's list of their properties\n",
        "            self.properties.append(Node.data.name)\n",
        "            self.money = self.money - Node.data.price\n",
        "            Node.data.bought()\n",
        "            Node.data.newOwner(self)\n",
        "            #print(self.name + \" bought \" + Node.data.name) Used mostly for debugging purposes\n",
        "            self.checkMonopoly(Node.data)\n",
        "          elif (self.style == \"utilities\" and (colorsIndicis[self.position.data.color]== 8 or colorsIndicis[self.position.data.color]== 9)):\n",
        "            #add this property to the player's list of their properties\n",
        "            self.properties.append(Node.data.name)\n",
        "            self.money = self.money - Node.data.price\n",
        "            Node.data.bought()\n",
        "            Node.data.newOwner(self)\n",
        "            #print(self.name + \" bought \" + Node.data.name) Used mostly for debugging purposes\n",
        "            self.checkMonopoly(Node.data)        \n",
        "          elif (self.position.data.price <= self.money * self.number):\n",
        "            #add this property to the player's list of their properties\n",
        "            self.properties.append(Node.data.name)\n",
        "            self.money = self.money - Node.data.price\n",
        "            Node.data.bought()\n",
        "            Node.data.newOwner(self)\n",
        "            #print(self.name + \" bought \" + Node.data.name) Used mostly for debugging purposes\n",
        "            self.checkMonopoly(Node.data)\n",
        "          \n",
        "\n",
        "  def payRent(self, Node):\n",
        "    \"\"\"The person who lands on this loses the amount of money on rent and gives that money to the owner\"\"\"\n",
        "    self.money = self.money - Node.data.rent\n",
        "    Node.data.owner.money += Node.data.rent\n",
        "    #print(self.name + \" paid \" + Node.data.owner.name + \" $\" + str(Node.data.rent) + \" in rent.\")\n",
        "  \n",
        "  def checkMonopoly(self, prop):\n",
        "    x = monopolies[colorsIndicis[prop.color]]\n",
        "    count = 0\n",
        "    for p in x:\n",
        "      if p.owner == self.name:\n",
        "        count += 1\n",
        "      if prop.color == \"Railroad\":\n",
        "        for p in x:\n",
        "          if p.owner == self.name:\n",
        "             x.monopolize(count)  \n",
        "          else:\n",
        "            if count == len(x):  \n",
        "              for p in x:\n",
        "                x.monopolize(2)\n"
      ],
      "execution_count": null,
      "outputs": []
    },
    {
      "cell_type": "code",
      "metadata": {
        "id": "vTaI2hckgNIc",
        "colab": {
          "base_uri": "https://localhost:8080/"
        },
        "outputId": "6fa29502-3496-4674-cdd9-0f3c24ba072d"
      },
      "source": [
        "#LinkedList for the Board\n",
        "\n",
        "#Node class just stores the data and the \"next\" value\n",
        "class Node:\n",
        "  def __init__(self, data, next= \"\"): \n",
        "    self.data = data\n",
        "    self.next = next\n",
        "\n",
        "  def setNext(self):\n",
        "    self.next = space1\n",
        "\n",
        "#Board Spaces\n",
        "space40= Node(DBlue2)\n",
        "space39= Node(LuxeryTax, space40)\n",
        "space38= Node(DBlue1, space39)\n",
        "space37= Node(Chance, space38)\n",
        "space36= Node(Special6, space37)\n",
        "space35= Node(Green3, space36)\n",
        "space34= Node(CommunityChest, space35)\n",
        "space33= Node(Green2, space34)\n",
        "space32= Node(Green1, space33)\n",
        "space31= Node(GoToJail, space32)\n",
        "space30= Node(Yellow3, space31)\n",
        "space29= Node(Special5, space30)\n",
        "space28= Node(Yellow2, space29)\n",
        "space27= Node(Yellow1, space28)\n",
        "space26= Node(Special4, space27)\n",
        "space25= Node(Red3, space26)\n",
        "space24= Node(Red2, space25)\n",
        "space23= Node(Chance, space24)\n",
        "space22= Node(Red1, space23)\n",
        "space21= Node(FreeParking, space22)\n",
        "space20= Node(Orange3, space21)\n",
        "space19= Node(Orange2, space20)\n",
        "space18= Node(CommunityChest, space19)\n",
        "space17= Node(Orange1, space18)\n",
        "space16= Node(Special3, space17)\n",
        "space15= Node(Pink3, space16)\n",
        "space14= Node(Pink2, space15)\n",
        "space13= Node(Special2, space14)\n",
        "space12= Node(Pink1, space13)\n",
        "space11= Node(Jail, space12)\n",
        "space10= Node(LBlue3, space11)\n",
        "space9= Node(LBlue2, space10)\n",
        "space8= Node(Chance, space9)\n",
        "space7= Node(LBlue1, space8)\n",
        "space6= Node(Special1, space7)\n",
        "space5= Node(IncomeTax, space6)\n",
        "space4= Node(Brown2, space5)\n",
        "space3= Node(CommunityChest, space4)\n",
        "space2= Node(Brown1, space3)\n",
        "space1= Node(Go, space2)\n",
        "space40.setNext()\n",
        "\n",
        "#Example of how to call the \"next\" value's name\n",
        "print(space3.next.data.name)\n"
      ],
      "execution_count": null,
      "outputs": [
        {
          "output_type": "stream",
          "text": [
            "Baltic Ave\n"
          ],
          "name": "stdout"
        }
      ]
    },
    {
      "cell_type": "code",
      "metadata": {
        "id": "KBXbyPsHg5BY"
      },
      "source": [
        "def ChanceRolled():\n",
        "  value = random.randint(0,1)\n",
        "  if(value ==0):\n",
        "    #print (\"Player landed on Chance, lose $50\")\n",
        "    return -50\n",
        "  if(value==1):\n",
        "    #print (\"Player landed on Chance, gain \")\n",
        "    return 50\n",
        "\n",
        "def Tax():\n",
        "  return -100"
      ],
      "execution_count": null,
      "outputs": []
    },
    {
      "cell_type": "code",
      "metadata": {
        "id": "MXQ1E9GTOBNf"
      },
      "source": [
        "def rungame(players, f, p, turns):\n",
        "  \"\"\"Runs Monopoly with the players, the focus each player has in the game and the percentage of their money they will spend\"\"\"\n",
        "  #Create game with 3 players, setting players focus and percentage of money to spend\n",
        "  p1 = Player(\"p1\", f[players[0][0]], p[players[0][1]])\n",
        "  p2 = Player(\"p2\", f[players[1][0]], p[players[1][1]])\n",
        "  p3 = Player(\"p3\", f[players[2][0]], p[players[2][1]])\n",
        "  game = [p1, p2, p3]\n",
        "  #implement running game of monopoly\n",
        "  #Make a list of all the properties and reset the values in each property\n",
        "  allProperties = [Brown1, Special1, Brown2, LBlue1, LBlue2, LBlue3, Pink1, Special2, Pink2, Pink3, Special3, Orange1, Orange2, Orange3, Red1, Red2, Red3, Special4, Yellow1, Yellow2, Special5, Yellow3, Green1, Green2, Green3, Special6, DBlue1, DBlue2]\n",
        "  for all in allProperties:\n",
        "    all.reset()\n",
        "  for turn in range(turns):\n",
        "    for player in game:\n",
        "      #Start a monopoly game with a certain amount of turns\n",
        "      player.movePosition()\n",
        "      player.buy(player.position)\n",
        "\n",
        "      #If we land on chance, go into the randomly giving/taking money\n",
        "      if (player.position.data.color == 'Chance'):\n",
        "        player.money += ChanceRolled()\n",
        "\n",
        "      #If we land on tax, go into that function and pay taxes\n",
        "      if (player.position.data.color == 'Tax'):\n",
        "        player.money = player.money + Tax()\n",
        "\n",
        "      if (player.money < 0):\n",
        "        player.bankrupt = True\n",
        "        #I want a way to say remove the player from the game, maybe we use players as a list and remove them from the list and reset their properties\n",
        "  \n",
        "  moneys = [p1.money, p2.money, p3.money]\n",
        "  moneys.sort(reverse=True)\n",
        "  while(moneys[0] == moneys[1]):\n",
        "    for player in game:\n",
        "      #Start a monopoly game with a certain amount of turns\n",
        "      player.movePosition()\n",
        "      player.buy(player.position)\n",
        "\n",
        "      #If we land on chance, go into the randomly giving/taking money\n",
        "      if (player.position.data.color == 'Chance'):\n",
        "        player.money += ChanceRolled()\n",
        "\n",
        "      #If we land on tax, go into that function and pay taxes\n",
        "      if (player.position.data.color == 'Tax'):\n",
        "        player.money = player.money + Tax()\n",
        "\n",
        "      if (player.money < 0):\n",
        "        player.bankrupt = True\n",
        "    moneys = [p1.money, p2.money, p3.money]\n",
        "    moneys.sort(reverse=True)\n",
        "  if p1.money == moneys[0]:\n",
        "    return 0\n",
        "  elif p2.money == moneys[0]:\n",
        "    return 1\n",
        "  else:\n",
        "    return 2\n",
        "\n"
      ],
      "execution_count": null,
      "outputs": []
    },
    {
      "cell_type": "code",
      "metadata": {
        "id": "mxgG-FZyAoi_",
        "colab": {
          "base_uri": "https://localhost:8080/",
          "height": 550
        },
        "outputId": "2f02853d-cd0a-47d0-dfbf-8ffff4b14570"
      },
      "source": [
        "def simulate():\n",
        "  \"\"\"Runs a simulation of the monopoly game, taking into account different play styles and spending percentages\"\"\"\n",
        "  #define traits\n",
        "  focus = ['none', 'slums', 'middle', 'riches', 'utilities']\n",
        "  percent = [0.1, 0.2, 0.3, 0.4, 0.5, 0.6, 0.7, 0.8, 0.9, 1.0]\n",
        "  #save all players that play in wins[0], save every winner in wins[1]\n",
        "  #creates 2 5x10 arrays\n",
        "  wins = np.zeros([2,5,10],float)\n",
        "  #however many times we want to run the game\n",
        "  numSim = 10000\n",
        "  for i in range(numSim):\n",
        "    #set players with a random percent and random focus\n",
        "    players = [[random.randint(0,4),random.randint(0,9)],[random.randint(0,4),random.randint(0,9)],[random.randint(0,4),random.randint(0,9)]]\n",
        "    for i in range (0,3):\n",
        "      wins[0,players[i][0],players[i][1]] += 1\n",
        "      #play game\n",
        "    winner = rungame(players, focus, percent, 100)\n",
        "    wins[1,players[winner][0],players[winner][1]] += 1\n",
        "  #plot strategy data\n",
        "  winrate = wins[1]/wins[0]\n",
        "  fig = plt.figure()\n",
        "  gr = fig.add_subplot()\n",
        "  plt.plot(percent, winrate[0], label = focus[0])\n",
        "  plt.plot(percent, winrate[1], label = focus[1])\n",
        "  plt.plot(percent, winrate[2], label = focus[2])\n",
        "  plt.plot(percent, winrate[3], label = focus[3])\n",
        "  plt.plot(percent, winrate[4], label = focus[4])\n",
        "  gr.set_title('percent win rate for each strategy')\n",
        "  gr.set_xlabel('percent readily spendable capital')\n",
        "  gr.set_ylabel('win rate')\n",
        "  plt.legend()\n",
        "  print(wins)\n",
        "    #Plot property stats: use dictionary to keep track of property name with times landed and revenue\n",
        "  landedTimes = {}\n",
        "  revenueCollected = {}\n",
        "  allProperties = [Brown1, Special1, Brown2, LBlue1, LBlue2, LBlue3, Pink1, Special2, Pink2, Pink3, Special3, Orange1, Orange2, Orange3, Red1, Red2, Red3, Special4, Yellow1, Yellow2, Special5, Yellow3, Green1, Green2, Green3, Special6, DBlue1, DBlue2]\n",
        "  for prop in allProperties:\n",
        "    landedTimes[prop.name] = prop.simLanded / (100 * numSim * 3) #Divide by number of turns to get percent chance of landing\n",
        "    revenueCollected[prop.name] = prop.simRevenue / numSim #Divide by number of games to get game average revenue\n",
        "  #Sort the list according to value in the key going highest to lowest\n",
        "  sortedLand = sorted(landedTimes.items(), key = lambda kv:kv[1])\n",
        "  sortedLandDic = dict(sortedLand)\n",
        "  sortedRev = sorted(revenueCollected.items(), key = lambda kv:kv[1])\n",
        "  sortedRevDic = dict(sortedRev)\n",
        "  print(sum(sortedLandDic.values()))\n",
        "  print(sortedLandDic)\n",
        "  print(sortedRevDic)\n",
        "simulate()"
      ],
      "execution_count": null,
      "outputs": [
        {
          "output_type": "stream",
          "text": [
            "[[[589. 624. 601. 659. 557. 613. 557. 570. 600. 616.]\n",
            "  [565. 620. 587. 653. 582. 574. 609. 603. 604. 623.]\n",
            "  [532. 560. 601. 610. 547. 639. 596. 541. 636. 601.]\n",
            "  [615. 628. 596. 620. 606. 590. 599. 561. 634. 618.]\n",
            "  [611. 604. 600. 612. 616. 606. 600. 644. 596. 575.]]\n",
            "\n",
            " [[502. 349. 230. 190. 166. 148. 140. 137. 144. 143.]\n",
            "  [466. 335. 218. 185. 161. 149. 168. 155. 129. 151.]\n",
            "  [305. 280. 199. 169. 147. 160. 155. 133. 140. 131.]\n",
            "  [348. 222. 175. 154. 137. 143. 159. 129. 156. 144.]\n",
            "  [506. 327. 227. 195. 166. 155. 158. 146. 146. 122.]]]\n",
            "0.7057393333333335\n",
            "{'Park Place': 0.021602, 'Boardwalk': 0.022098, 'Mediterranean Ave': 0.022548666666666668, 'Reading Railroad': 0.023358666666666666, 'Baltic Ave': 0.023418, 'Short Line': 0.023510333333333334, 'Oriental Ave': 0.023596333333333334, 'St. Charles Place': 0.023687666666666666, 'Vermont Ave': 0.02383, 'Connecticut Ave': 0.023836, 'Electric Company': 0.024174666666666667, 'Pennsylvania Ave': 0.024447, 'States Ave': 0.024785, 'North Carolina Ave': 0.025529, 'Virginia Ave': 0.025753666666666668, 'Pennsylvania Railroad': 0.026339666666666667, 'Indiana Ave': 0.026448666666666665, 'Pacific Ave': 0.026496, 'Illinois Ave': 0.02663, 'Marvin Gardens': 0.026691666666666666, 'Kentucky Ave': 0.026785666666666666, 'Water Works': 0.026867, 'Atlantic Ave': 0.026908, 'Ventnor Ave': 0.026941, 'B. & O. Railroad': 0.026992, 'St. James Place': 0.027305666666666666, 'New York Ave': 0.027445666666666667, 'Tennesse Ave': 0.027713333333333333}\n",
            "{'Mediterranean Ave': 13.5292, 'Baltic Ave': 28.1016, 'Oriental Ave': 42.4734, 'Vermont Ave': 42.894, 'Connecticut Ave': 57.2064, 'St. Charles Place': 71.063, 'States Ave': 74.355, 'Virginia Ave': 92.7132, 'St. James Place': 114.6838, 'Tennesse Ave': 116.396, 'New York Ave': 131.7392, 'Indiana Ave': 142.8228, 'Kentucky Ave': 144.6426, 'Illinois Ave': 159.78, 'Reading Railroad': 175.19, 'Short Line': 176.3275, 'Atlantic Ave': 177.5928, 'Ventnor Ave': 177.8106, 'Marvin Gardens': 192.18, 'Pennsylvania Railroad': 197.5475, 'North Carolina Ave': 199.1262, 'B. & O. Railroad': 202.44, 'Pennsylvania Ave': 205.3548, 'Pacific Ave': 206.6688, 'Park Place': 226.821, 'Electric Company': 253.834, 'Water Works': 282.1035, 'Boardwalk': 331.47}\n"
          ],
          "name": "stdout"
        },
        {
          "output_type": "display_data",
          "data": {
            "image/png": "[encoded data removed]",
            "text/plain": [
              "<Figure size 432x288 with 1 Axes>"
            ]
          },
          "metadata": {
            "tags": [],
            "needs_background": "light"
          }
        }
      ]
    },
    {
      "cell_type": "code",
      "metadata": {
        "id": "_xRTuP41pN0r",
        "colab": {
          "base_uri": "https://localhost:8080/"
        },
        "outputId": "656f058c-9d49-4c9b-a5a3-1563d7681987"
      },
      "source": [
        "\n",
        "#Creates the players for the game\n",
        "player1= Player(\"Player1\", \"Spend\", 1, 1500, [])\n",
        "player2= Player(\"Player2\", \"Spend\", 2, 1500, [])\n",
        "player3= Player(\"Player3\", \"Spend\", 3, 1500, [])\n",
        "\n",
        "#List of all the properties to easily reset\n",
        "allProperties = [Brown1, Special1, Brown2, LBlue1, LBlue2, LBlue3, Pink1, Special2, Pink2, Pink3, Special3, Orange1, Orange2, Orange3, Red1, Red2, Red3, Special4, \n",
        "                 Yellow1, Yellow2, Special5, Yellow3, Green1, Green2, Green3, Special6, DBlue1, DBlue2]\n",
        "for all in allProperties:\n",
        "  all.reset()\n",
        "\n",
        "#Play the game\n",
        "Game2= [player1, player2, player3]\n",
        "moves = 30\n",
        "for turns in range(moves):\n",
        "  for player in Game2:\n",
        "    player.movePosition()\n",
        "    #If the property is able to be bought, buy it\n",
        "    if (player.position.data.price !=0):\n",
        "      player.buy(player.position)\n",
        "\n",
        "    #If we land on chance, go into the randomly giving/taking money\n",
        "    if (player.position.data.color == 'Chance'):\n",
        "      player.money += ChanceRolled()\n",
        "\n",
        "    #If we land on tax, go into that function and pay taxes\n",
        "    if (player.position.data.color == 'Tax'):\n",
        "      player.money = player.money + Tax()\n",
        "\n",
        "    if(player.money < 0):\n",
        "      player.bankrupt = True\n",
        "\n",
        "    #print(player.name, \"= \", player.properties)\n",
        "    #print(player.name, \"= \", player.money)\n",
        "    #print(\"\")\n",
        "landedTimes = {}\n",
        "revenueCollected = {}\n",
        "for prop in allProperties:\n",
        "  #Percent chance of landing on the property \n",
        "  landedTimes[prop.name] = prop.simLanded \n",
        "  #Total revenue collected (in sim we should divide by number of games to get avereage per game revenue)\n",
        "  revenueCollected[prop.name] = prop.simRevenue\n",
        "\n",
        "sortedLand = sorted(landedTimes.items(), key = lambda kv:kv[1])\n",
        "sortedLandDic = dict(sortedLand)\n",
        "sortedRev = sorted(revenueCollected.items(), key = lambda kv:kv[1])\n",
        "sortedRevDic = dict(sortedRev)\n",
        "print(\"Properties Landed on:\", sortedLandDic)\n",
        "print(\"Properties Revenue: \",sortedRevDic)\n",
        "\n",
        "\n",
        "    \n"
      ],
      "execution_count": null,
      "outputs": [
        {
          "output_type": "stream",
          "text": [
            "Properties Landed on: {'Park Place': 64808, 'Boardwalk': 66294, 'Mediterranean Ave': 67647, 'Reading Railroad': 70077, 'Baltic Ave': 70258, 'Short Line': 70534, 'Oriental Ave': 70791, 'St. Charles Place': 71064, 'Vermont Ave': 71494, 'Connecticut Ave': 71509, 'Electric Company': 72529, 'Pennsylvania Ave': 73344, 'States Ave': 74358, 'North Carolina Ave': 76587, 'Virginia Ave': 77261, 'Pennsylvania Railroad': 79019, 'Indiana Ave': 79348, 'Pacific Ave': 79490, 'Illinois Ave': 79891, 'Marvin Gardens': 80077, 'Kentucky Ave': 80360, 'Water Works': 80602, 'Atlantic Ave': 80724, 'Ventnor Ave': 80829, 'B. & O. Railroad': 80979, 'St. James Place': 81920, 'New York Ave': 82341, 'Tennesse Ave': 83141}\n",
            "Properties Revenue:  {'Mediterranean Ave': 135294, 'Baltic Ave': 281032, 'Oriental Ave': 424746, 'Vermont Ave': 428964, 'Connecticut Ave': 572072, 'St. Charles Place': 710640, 'States Ave': 743580, 'Virginia Ave': 927132, 'St. James Place': 1146880, 'Tennesse Ave': 1163974, 'New York Ave': 1317456, 'Indiana Ave': 1428264, 'Kentucky Ave': 1446480, 'Illinois Ave': 1597820, 'Reading Railroad': 1751925, 'Short Line': 1763350, 'Atlantic Ave': 1775928, 'Ventnor Ave': 1778238, 'Marvin Gardens': 1921848, 'Pennsylvania Railroad': 1975475, 'North Carolina Ave': 1991262, 'B. & O. Railroad': 2024475, 'Pennsylvania Ave': 2053632, 'Pacific Ave': 2066740, 'Park Place': 2268280, 'Electric Company': 2538515, 'Water Works': 2821070, 'Boardwalk': 3314700}\n"
          ],
          "name": "stdout"
        }
      ]
    },
    {
      "cell_type": "code",
      "metadata": {
        "colab": {
          "base_uri": "https://localhost:8080/"
        },
        "id": "WxSLdHd2AfAq",
        "outputId": "83e30543-e6cc-46d5-cac9-861aa7c0bbda"
      },
      "source": [
        "def Test1Round():\n",
        "  allProperties = [Brown1, Special1, Brown2, LBlue1, LBlue2, LBlue3, Pink1, Special2, Pink2, Pink3, Special3, Orange1, Orange2, Orange3, Red1, Red2, Red3, Special4, Yellow1, Yellow2, Special5, Yellow3, Green1, Green2, Green3, Special6, DBlue1, DBlue2]\n",
        "  for prop in allProperties:\n",
        "    prop.simLanded = 0\n",
        "    prop.simRevenue = 0\n",
        "\n",
        "    #reset the properties each round\n",
        "    for all in allProperties:\n",
        "      all.reset()\n",
        "   \n",
        "    #create players to have \"slums\" strategy\n",
        "  Camille = Player(\"Camille\", \"Slums\", 1, 1500, [])\n",
        "    #players = [SlumsPlayer1, SlumsPlayer2, SlumsPlayer3]\n",
        "    \n",
        "  print (Camille.properties)\n",
        "\n",
        "  keepPlaying = False\n",
        "  numberOfRounds = 0\n",
        "\n",
        "\n",
        "Test1Round()"
      ],
      "execution_count": null,
      "outputs": [
        {
          "output_type": "stream",
          "text": [
            "[]\n"
          ],
          "name": "stdout"
        }
      ]
    },
    {
      "cell_type": "code",
      "metadata": {
        "id": "ejcTxMjEBUKV"
      },
      "source": [
        " "
      ],
      "execution_count": null,
      "outputs": []
    },
    {
      "cell_type": "code",
      "metadata": {
        "id": "ZLT0PAEDM3UB"
      },
      "source": [
        ""
      ],
      "execution_count": null,
      "outputs": []
    }
  ]
}